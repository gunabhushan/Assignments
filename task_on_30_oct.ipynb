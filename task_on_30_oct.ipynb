{
 "cells": [
  {
   "cell_type": "code",
   "execution_count": 1,
   "metadata": {},
   "outputs": [],
   "source": [
    "import gspread\n",
    "import pandas as pd\n",
    "import json\n",
    "\n",
    "url = json.load(open('private_data.json'))['url']\n",
    "gc = gspread.service_account(filename=\"./Ecowiser-guna-cred.json\")"
   ]
  },
  {
   "cell_type": "code",
   "execution_count": 2,
   "metadata": {},
   "outputs": [],
   "source": [
    "file = gc.open_by_url(url)"
   ]
  },
  {
   "cell_type": "code",
   "execution_count": 3,
   "metadata": {},
   "outputs": [],
   "source": [
    "brating = file.get_worksheet(1)\n",
    "bscoring = file.get_worksheet(3)\n",
    "brating = pd.DataFrame(brating.get_all_records())\n",
    "bscoring = pd.DataFrame(bscoring.get_all_records())"
   ]
  },
  {
   "cell_type": "code",
   "execution_count": 4,
   "metadata": {},
   "outputs": [],
   "source": [
    "brand_scores = bscoring.loc[(44,72,90,94),]"
   ]
  },
  {
   "cell_type": "code",
   "execution_count": 5,
   "metadata": {},
   "outputs": [],
   "source": [
    "brands = brating.loc[0:24,'Brand Name']"
   ]
  },
  {
   "cell_type": "code",
   "execution_count": 6,
   "metadata": {},
   "outputs": [
    {
     "name": "stdout",
     "output_type": "stream",
     "text": [
      "                  PARAMETER Allbirds\n",
      "44      ENVIRONMENT RATING       3.3\n",
      "72  MAKER WELLBEING RATING      1.75\n",
      "90    ANIMAL WELFARE RATING      4.0\n",
      "94             FINAL RATING        3\n",
      "                  PARAMETER Icebug\n",
      "44      ENVIRONMENT RATING     4.0\n",
      "72  MAKER WELLBEING RATING     4.0\n",
      "90    ANIMAL WELFARE RATING    2.5\n",
      "94             FINAL RATING      4\n",
      "                  PARAMETER Adelante Shoe Co.\n",
      "44      ENVIRONMENT RATING                3.9\n",
      "72  MAKER WELLBEING RATING               3.75\n",
      "90    ANIMAL WELFARE RATING               0.5\n",
      "94             FINAL RATING                 3\n",
      "                  PARAMETER Reformation\n",
      "44      ENVIRONMENT RATING         2.25\n",
      "72  MAKER WELLBEING RATING         2.25\n",
      "90    ANIMAL WELFARE RATING         3.5\n",
      "94             FINAL RATING           3\n",
      "                  PARAMETER 8000Kicks\n",
      "44      ENVIRONMENT RATING        2.0\n",
      "72  MAKER WELLBEING RATING       2.75\n",
      "90    ANIMAL WELFARE RATING       5.0\n",
      "94             FINAL RATING         3\n",
      "                  PARAMETER tentree\n",
      "44      ENVIRONMENT RATING     4.05\n",
      "72  MAKER WELLBEING RATING      2.5\n",
      "90    ANIMAL WELFARE RATING     4.0\n",
      "94             FINAL RATING       4\n",
      "                  PARAMETER Knickey\n",
      "44      ENVIRONMENT RATING      5.0\n",
      "72  MAKER WELLBEING RATING     3.75\n",
      "90    ANIMAL WELFARE RATING     5.0\n",
      "94             FINAL RATING       5\n",
      "                  PARAMETER tonlé\n",
      "44      ENVIRONMENT RATING    4.2\n",
      "72  MAKER WELLBEING RATING    3.5\n",
      "90    ANIMAL WELFARE RATING   5.0\n",
      "94             FINAL RATING     4\n",
      "                  PARAMETER 1 People\n",
      "44      ENVIRONMENT RATING       3.4\n",
      "72  MAKER WELLBEING RATING       2.0\n",
      "90    ANIMAL WELFARE RATING      4.0\n",
      "94             FINAL RATING        3\n",
      "Brand not found\n",
      "                  PARAMETER  ANDI\n",
      "44      ENVIRONMENT RATING   3.55\n",
      "72  MAKER WELLBEING RATING    0.0\n",
      "90    ANIMAL WELFARE RATING   5.0\n",
      "94             FINAL RATING     3\n",
      "                  PARAMETER Cariuma\n",
      "44      ENVIRONMENT RATING      3.5\n",
      "72  MAKER WELLBEING RATING      4.0\n",
      "90    ANIMAL WELFARE RATING     1.0\n",
      "94             FINAL RATING       3\n",
      "                  PARAMETER Théla\n",
      "44      ENVIRONMENT RATING    3.4\n",
      "72  MAKER WELLBEING RATING   2.75\n",
      "90    ANIMAL WELFARE RATING   5.0\n",
      "94             FINAL RATING     4\n",
      "                  PARAMETER Clime Scene\n",
      "44      ENVIRONMENT RATING          3.9\n",
      "72  MAKER WELLBEING RATING         2.25\n",
      "90    ANIMAL WELFARE RATING         5.0\n",
      "94             FINAL RATING           4\n",
      "                  PARAMETER Harvest & Mill\n",
      "44      ENVIRONMENT RATING            3.15\n",
      "72  MAKER WELLBEING RATING             2.0\n",
      "90    ANIMAL WELFARE RATING            5.0\n",
      "94             FINAL RATING              3\n",
      "                  PARAMETER Kuyichi\n",
      "44      ENVIRONMENT RATING      4.0\n",
      "72  MAKER WELLBEING RATING      3.5\n",
      "90    ANIMAL WELFARE RATING     3.0\n",
      "94             FINAL RATING       4\n",
      "                  PARAMETER unspun\n",
      "44      ENVIRONMENT RATING     4.0\n",
      "72  MAKER WELLBEING RATING     2.5\n",
      "90    ANIMAL WELFARE RATING    5.0\n",
      "94             FINAL RATING      4\n",
      "                  PARAMETER Blue & Yellow\n",
      "44      ENVIRONMENT RATING            3.9\n",
      "72  MAKER WELLBEING RATING            1.0\n",
      "90    ANIMAL WELFARE RATING           5.0\n",
      "94             FINAL RATING             3\n",
      "                  PARAMETER Marita Moreno\n",
      "44      ENVIRONMENT RATING            2.5\n",
      "72  MAKER WELLBEING RATING           2.25\n",
      "90    ANIMAL WELFARE RATING           1.0\n",
      "94             FINAL RATING             2\n",
      "                  PARAMETER Paneros\n",
      "44      ENVIRONMENT RATING      3.3\n",
      "72  MAKER WELLBEING RATING     3.75\n",
      "90    ANIMAL WELFARE RATING     1.5\n",
      "94             FINAL RATING       3\n",
      "                  PARAMETER Plush Beds\n",
      "44      ENVIRONMENT RATING         3.5\n",
      "72  MAKER WELLBEING RATING         2.5\n",
      "90    ANIMAL WELFARE RATING        3.5\n",
      "94             FINAL RATING          3\n",
      "                  PARAMETER DYPER\n",
      "44      ENVIRONMENT RATING    3.0\n",
      "72  MAKER WELLBEING RATING    0.0\n",
      "90    ANIMAL WELFARE RATING   5.0\n",
      "94             FINAL RATING     3\n",
      "                  PARAMETER BRANWYN\n",
      "44      ENVIRONMENT RATING      3.5\n",
      "72  MAKER WELLBEING RATING      1.0\n",
      "90    ANIMAL WELFARE RATING     4.0\n",
      "94             FINAL RATING       3\n",
      "                  PARAMETER Naturepedic\n",
      "44      ENVIRONMENT RATING          4.4\n",
      "72  MAKER WELLBEING RATING          2.5\n",
      "90    ANIMAL WELFARE RATING         3.5\n",
      "94             FINAL RATING           4\n",
      "                  PARAMETER Tizz and Tonic\n",
      "44      ENVIRONMENT RATING             2.7\n",
      "72  MAKER WELLBEING RATING            1.75\n",
      "90    ANIMAL WELFARE RATING            5.0\n",
      "94             FINAL RATING              3\n"
     ]
    }
   ],
   "source": [
    "for i in brands:\n",
    "    try:\n",
    "        print(brand_scores.loc[:,('PARAMETER',i)])\n",
    "    except:\n",
    "        print('Brand not found')"
   ]
  }
 ],
 "metadata": {
  "kernelspec": {
   "display_name": "Python 3",
   "language": "python",
   "name": "python3"
  },
  "language_info": {
   "codemirror_mode": {
    "name": "ipython",
    "version": 3
   },
   "file_extension": ".py",
   "mimetype": "text/x-python",
   "name": "python",
   "nbconvert_exporter": "python",
   "pygments_lexer": "ipython3",
   "version": "3.11.4"
  }
 },
 "nbformat": 4,
 "nbformat_minor": 2
}
